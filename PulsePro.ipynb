{
  "cells": [
    {
      "cell_type": "markdown",
      "source": [
        "### **PulsePro** : Fitness and Nutrition Agent\n"
      ],
      "metadata": {
        "id": "9o3bKv3vmvKI"
      }
    },
    {
      "cell_type": "markdown",
      "source": [
        "### *Environment Setup*"
      ],
      "metadata": {
        "id": "uXOVdZbmm9qX"
      }
    },
    {
      "cell_type": "code",
      "execution_count": 11,
      "metadata": {
        "id": "89uuDilspLFM"
      },
      "outputs": [],
      "source": [
        "# Installation\n",
        "%%capture --no-stderr\n",
        "%pip install -U langchain_community langchain_google_genai langchain_experimental  langgraph"
      ]
    },
    {
      "cell_type": "code",
      "execution_count": 2,
      "metadata": {
        "id": "pDnVUAqIrgXO"
      },
      "outputs": [],
      "source": [
        "from google.colab import userdata\n",
        "gemini_api_key = userdata.get('GEMINI_API_KEY')"
      ]
    },
    {
      "cell_type": "code",
      "source": [
        "import os\n",
        "os.environ[\"LANGSMITH_API_KEY\"] = userdata.get('LANGSMITH_API_KEY')\n",
        "os.environ[\"LANGCHAIN_TRACING_V2\"] = \"true\"\n",
        "os.environ[\"LANGCHAIN_PROJECT\"] = \"Agentic_Chatbot\""
      ],
      "metadata": {
        "id": "n3bbnIm-LZfI"
      },
      "execution_count": 3,
      "outputs": []
    },
    {
      "cell_type": "code",
      "execution_count": 4,
      "metadata": {
        "id": "l3ZU53-ar0KU"
      },
      "outputs": [],
      "source": [
        "#Initializing the LLM\n",
        "from langchain_google_genai import ChatGoogleGenerativeAI\n",
        "llm = ChatGoogleGenerativeAI(model='gemini-1.5-flash',api_key=gemini_api_key,temprature=0.8)"
      ]
    },
    {
      "cell_type": "markdown",
      "source": [
        "### *State and Tools*"
      ],
      "metadata": {
        "id": "VqAmwKV-mtYv"
      }
    },
    {
      "cell_type": "code",
      "execution_count": 5,
      "metadata": {
        "id": "f_KqYybWr0GA"
      },
      "outputs": [],
      "source": [
        "\n",
        "from pydantic import BaseModel\n",
        "from langgraph.graph import MessagesState\n",
        "from langgraph.graph import MessagesState\n",
        "from langchain_core.messages import SystemMessage , HumanMessage , RemoveMessage\n",
        "from langgraph.types import Command, interrupt\n",
        "# Defining State\n",
        "class State(MessagesState):\n",
        "  summary:str\n",
        "\n",
        "# Creating Tools\n",
        "def workout_planner (query:str):\n",
        "  ''' Workout planner is a tool that will be called when a user in his query asks about any workout suggestions and some gym related\n",
        "      queries , then it will provide the user some workout and exercise suggestions.\n",
        "  '''\n",
        "\n",
        "  response = llm.invoke(query)\n",
        "  return response\n",
        "\n",
        "def Calorie_counter(query:str):\n",
        "  ''' Calorie counter is a tool that will provide users diet suggestions and calorie count for diets and suggest diet that is beneficial for the health'''\n",
        "  response = llm.invoke(query)\n",
        "  return response\n",
        "\n",
        "tools = [workout_planner , Calorie_counter]\n",
        "# Binding tools with llm\n",
        "llm_with_tools = llm.bind_tools(tools)"
      ]
    },
    {
      "cell_type": "markdown",
      "source": [
        "### *NODES*"
      ],
      "metadata": {
        "id": "GDUEp5CinPOo"
      }
    },
    {
      "cell_type": "code",
      "source": [
        "from langgraph.graph import StateGraph , START , END\n",
        "from langgraph.prebuilt import tools_condition , ToolNode\n",
        "from langgraph.checkpoint.memory import MemorySaver\n",
        "from langgraph.graph.state import CompiledStateGraph\n",
        "from langgraph.errors import NodeInterrupt\n",
        "from typing import Annotated , Optional\n",
        "\n",
        "class Specific_or_not(BaseModel):\n",
        "  Specific:Annotated[bool,None,'Query is Related to the fitness and Nutrition or Not']\n",
        "  Reason:Annotated[Optional[str] , None , 'Reason why the query is returned as false ']\n",
        "\n",
        "#Creating Node\n",
        "structured_llm = llm.with_structured_output(Specific_or_not)\n",
        "sys_msg = SystemMessage(content='You are a gym trainer and workout planner. You have to guide the users effeciently and precisely',name='System')\n",
        "def Assistant (state:State)->MessagesState:\n",
        "  # # Instead of adding, create a list of messages\n",
        "  # messages = [sys_msg] + state['messages']\n",
        "     # Get summary if it exists\n",
        "    summary = state.get(\"summary\", \"\")\n",
        "    sys2_msg = SystemMessage(content=f''' You are a quey validator . You have to check user's query if the user's query is related to fitness\n",
        ", workout , gym , diet , calories and if the user's query is not clarified and need more details then return false otherwise true''',name='System')\n",
        "    last_message = state['messages'][-1].content\n",
        "    msg2 = [sys2_msg, HumanMessage(content=last_message)]\n",
        "    res = structured_llm.invoke(msg2)\n",
        "    if not res.Specific:\n",
        "      print(f'Interrupt :{res.Reason}')\n",
        "      raise NodeInterrupt(f'Reason for interruption : {res.Reason}')\n",
        "    # If there is summary, then we add it\n",
        "    if summary:\n",
        "\n",
        "        # Add summary to system message\n",
        "     system_message = f'''You are a fitness and diet assistant equipped with tools to provide personalized workout suggestions\n",
        "        and calorie counting for diet recommendations. When a user asks questions related to fitness routines, calorie intake, or diet plans,\n",
        "        you should identify the query as requiring a tool-based response. Use the appropriate tool—either the 'Workout Planner' for fitness\n",
        "        suggestions or the 'Calorie Counter' for diet advice—to generate the most accurate and helpful response for the user.\n",
        "        Always prioritize calling the tools to deliver precise and tailored guidance,\n",
        "        ensuring the user receives the best assistance possibleSummary of conversation earlier: {summary}'''\n",
        "\n",
        "\n",
        "        # Append summary to any newer messages\n",
        "     messages = [SystemMessage(content=system_message)] + state[\"messages\"]\n",
        "\n",
        "    else:\n",
        "        messages = state[\"messages\"]\n",
        "\n",
        "\n",
        "    return {'messages': [llm_with_tools.invoke(messages)]}\n",
        "#Summary Node\n",
        "def summarize_conversation(state: State):\n",
        "\n",
        "    # First, we get any existing summary\n",
        "    summary = state.get(\"summary\", \"\")\n",
        "\n",
        "    # Create our summarization prompt\n",
        "    if summary:\n",
        "\n",
        "        # A summary already exists\n",
        "        summary_message = (\n",
        "            f\"This is summary of the conversation to date: {summary}\\n\\n\"\n",
        "            \"Extend the summary by taking into account the new messages above:\"\n",
        "        )\n",
        "\n",
        "    else:\n",
        "        summary_message = \"Create a summary of the conversation above:\"\n",
        "\n",
        "    # Add prompt to our history\n",
        "    messages = state[\"messages\"] + [HumanMessage(content=summary_message)]\n",
        "    response = llm_with_tools.invoke(messages)\n",
        "\n",
        "    # Delete all but the 2 most recent messages\n",
        "    delete_messages = [RemoveMessage(id=m.id) for m in state[\"messages\"][:-2]]\n",
        "    return {\"summary\": response.content, \"messages\": delete_messages}\n",
        "\n",
        "# Determine whether to end or summarize the conversation\n",
        "def should_continue(state: State):\n",
        "\n",
        "    \"\"\"Return the next node to execute.\"\"\"\n",
        "\n",
        "    messages = state[\"messages\"]\n",
        "\n",
        "    # If there are more than six messages, then we summarize the conversation\n",
        "    if len(messages) > 6:\n",
        "        return \"summarize_conversation\"\n",
        "\n",
        "    # Otherwise we can just end\n",
        "    return END\n",
        "def Router(state:State):\n",
        "  pass\n",
        "def Human_feedback(state:State):\n",
        "  pass\n",
        "\n"
      ],
      "metadata": {
        "id": "xwxNVwGLRzX8"
      },
      "execution_count": 6,
      "outputs": []
    },
    {
      "cell_type": "markdown",
      "source": [
        "### *Compilation of Graph : Workflow*"
      ],
      "metadata": {
        "id": "k7q5z5yenW7n"
      }
    },
    {
      "cell_type": "code",
      "source": [
        "memory: MemorySaver = MemorySaver()\n",
        "\n",
        "workflow = StateGraph(MessagesState)\n",
        "# Adding Nodes\n",
        "workflow.add_node('Human_feedback',Human_feedback)\n",
        "workflow.add_node('Assistant',Assistant)\n",
        "workflow.add_node('Router',Router)\n",
        "workflow.add_node('tools',ToolNode(tools))\n",
        "workflow.add_node('summarize_conversation',summarize_conversation)\n",
        "#Adding Edges\n",
        "workflow.add_edge(START,'Human_feedback')\n",
        "workflow.add_edge('Human_feedback','Assistant')\n",
        "workflow.add_conditional_edges(\n",
        "     \"Assistant\",\n",
        "     #If the response from the assistant is a tool call then it will go the tool and if not it will go to the Router\n",
        "     tools_condition,\n",
        "     {\n",
        "         \"tools\":\"tools\",\n",
        "         \"__end__\":\"Router\"\n",
        "     }\n",
        ")\n",
        "workflow.add_edge('tools','Assistant')\n",
        "# workflow.add_edge('Assistant','Router')\n",
        "workflow.add_conditional_edges(\n",
        "    'Router',\n",
        "    should_continue,\n",
        "    {\n",
        "        \"summarize_conversation\": \"summarize_conversation\",\n",
        "        \"__end__\": END\n",
        "    }\n",
        ")\n",
        "workflow.add_edge('summarize_conversation',END)\n",
        "graph  = workflow.compile(checkpointer=memory,interrupt_before=['Human_feedback'])\n"
      ],
      "metadata": {
        "id": "4ephaWpXR30T"
      },
      "execution_count": 8,
      "outputs": []
    },
    {
      "cell_type": "code",
      "source": [
        "from IPython.display import Image , display\n",
        "display(Image(graph.get_graph().draw_mermaid_png()))"
      ],
      "metadata": {
        "colab": {
          "base_uri": "https://localhost:8080/",
          "height": 614
        },
        "id": "DVXRG8d3Scry",
        "outputId": "4390a38e-0abf-4526-dbe1-d6c7371803fc"
      },
      "execution_count": 9,
      "outputs": [
        {
          "output_type": "display_data",
          "data": {
            "image/png": "[encoded data removed]",
            "text/plain": [
              "<IPython.core.display.Image object>"
            ]
          },
          "metadata": {}
        }
      ]
    },
    {
      "cell_type": "markdown",
      "source": [
        "### *Execution*"
      ],
      "metadata": {
        "id": "fHSP_zcuneKH"
      }
    },
    {
      "cell_type": "code",
      "source": [
        "initial_input= {'messages':'Hi ! What is best exercise for calorie burn'}\n",
        "config1 = {\"configurable\": {\"thread_id\": \"1\"}}\n",
        "\n",
        "for event in graph.stream(initial_input, config1, stream_mode=\"values\"):\n",
        "    event[\"messages\"][-1].pretty_print()\n",
        "user_interrupt = input('Hi ! Human , If you want to update the state type in or just type NO and I will continue with the previous state')\n",
        "if user_interrupt.lower()=='no':\n",
        "  for event in graph.stream(None, config1, stream_mode=\"values\"):\n",
        "    event[\"messages\"][-1].pretty_print()\n",
        "else:\n",
        "  graph.update_state(config1, {\"messages\": user_interrupt}, as_node=\"Human_feedback\")\n",
        "  for event in graph.stream(None, config1, stream_mode=\"values\"):\n",
        "    event[\"messages\"][-1].pretty_print()\n",
        "\n",
        "\n",
        "# Handling the Dynamic Interrupt using Forking\n",
        "state= graph.get_state(config1)\n",
        "if len(state.tasks) != 0:\n",
        "  update=input('Your Query is not clear , Rewrite your query and make things clear and related to the services and be more specific  : ')\n",
        "  all_states = [s for s in graph.get_state_history(config1)]\n",
        "  fork = all_states[-2]\n",
        "  fork_config = graph.update_state(\n",
        "    fork.config,\n",
        "    {\"messages\": [HumanMessage(content=update,\n",
        "                               id=fork.values[\"messages\"][0].id)]},\n",
        "    )\n",
        "  for event in graph.stream(None, fork_config, stream_mode=\"values\"):\n",
        "    event['messages'][-1].pretty_print()\n"
      ],
      "metadata": {
        "colab": {
          "base_uri": "https://localhost:8080/"
        },
        "id": "uQqa6No0SjVa",
        "outputId": "983ab9f5-13b1-4809-9dea-6570154ebe0f"
      },
      "execution_count": 10,
      "outputs": [
        {
          "output_type": "stream",
          "name": "stdout",
          "text": [
            "================================\u001b[1m Human Message \u001b[0m=================================\n",
            "\n",
            "Hi ! What is best exercise for calorie burn\n",
            "Hi ! Human , If you want to update the state type in or just type NO and I will continue with the previous stateno\n",
            "================================\u001b[1m Human Message \u001b[0m=================================\n",
            "\n",
            "Hi ! What is best exercise for calorie burn\n",
            "Interrupt :What is best exercise for calorie burn\n",
            "Your Query is not clear , Rewrite your query and make things clear and related to the services and be more specific  : how many calories will burn if i run for 10 minutes (light jogging)\n",
            "================================\u001b[1m Human Message \u001b[0m=================================\n",
            "\n",
            "how many calories will burn if i run for 10 minutes (light jogging)\n",
            "==================================\u001b[1m Ai Message \u001b[0m==================================\n",
            "Tool Calls:\n",
            "  Calorie_counter (0a7f3780-7bdc-4932-8be6-96562d670d8d)\n",
            " Call ID: 0a7f3780-7bdc-4932-8be6-96562d670d8d\n",
            "  Args:\n",
            "    query: how many calories will burn if i run for 10 minutes (light jogging)\n",
            "=================================\u001b[1m Tool Message \u001b[0m=================================\n",
            "Name: Calorie_counter\n",
            "\n",
            "content=\"The number of calories burned during a 10-minute light jog depends on several factors, including your weight, age, sex, and intensity of the jog.  There's no single answer.\\n\\nHowever, a rough estimate for a person of average weight and fitness level would be **between 50 and 100 calories**.  This is a very broad range.  To get a more accurate estimate, you should use a fitness tracker or calorie calculator that takes your individual characteristics into account.\" additional_kwargs={} response_metadata={'prompt_feedback': {'block_reason': 0, 'safety_ratings': []}, 'finish_reason': 'STOP', 'safety_ratings': []} id='run-4ec9f7ce-c95e-43fd-971e-8c049cad9e61-0' usage_metadata={'input_tokens': 18, 'output_tokens': 104, 'total_tokens': 122, 'input_token_details': {'cache_read': 0}}\n",
            "==================================\u001b[1m Ai Message \u001b[0m==================================\n",
            "\n",
            "A 10-minute light jog burns approximately 50-100 calories, but this depends on your weight, age, sex, and the intensity of your jog.  For a more precise estimate, use a fitness tracker or calorie calculator that considers your individual characteristics.\n"
          ]
        }
      ]
    }
  ],
  "metadata": {
    "colab": {
      "provenance": []
    },
    "kernelspec": {
      "display_name": "Python 3",
      "name": "python3"
    },
    "language_info": {
      "name": "python"
    }
  },
  "nbformat": 4,
  "nbformat_minor": 0
}